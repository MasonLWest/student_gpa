{
 "cells": [
  {
   "attachments": {},
   "cell_type": "markdown",
   "metadata": {},
   "source": [
    "# Author: Mason West\n",
    "# File Name: student_gpa\n",
    "# Description: Python app that accepts student names and GPAs, and tests if they qualify for Dean's List or Honor Roll.\n"
   ]
  },
  {
   "cell_type": "code",
   "execution_count": null,
   "metadata": {},
   "outputs": [],
   "source": [
    "\n",
    "while True:\n",
    "    # Ask for and accept a student's last name\n",
    "    last_name = input(\"Enter the student's last name (or ZZZ to quit): \")\n",
    "    \n",
    "    if last_name == 'ZZZ':\n",
    "        break\n",
    "        \n",
    "    # Ask for and accept a student's first name\n",
    "    first_name = input(\"Enter the student's first name: \")\n",
    "    \n",
    "    # Ask for and accept the student's GPA as a float\n",
    "    gpa = float(input(\"Enter the student's GPA: \"))\n",
    "    \n",
    "    # Test if the student's GPA is 3.5 or greater and, if so, print a message saying that the student has made the Dean's List\n",
    "    if gpa >= 3.5:\n",
    "        print(f\"{first_name} {last_name} has made the Dean's List!\")\n",
    "    \n",
    "    # Test if the student's GPA is 3.25 or greater and, if so, print a message saying that the student has made the Honor Roll\n",
    "    elif gpa >= 3.25:\n",
    "        print(f\"{first_name} {last_name} has made the Honor Roll!\")\n",
    "    \n",
    "    # If neither condition is met, print a message saying that the student did not make either the Dean's List or the Honor Roll\n",
    "    else:\n",
    "        print(f\"{first_name} {last_name} did not make either the Dean's List or the Honor Roll.\")\n"
   ]
  }
 ],
 "metadata": {
  "language_info": {
   "name": "python"
  },
  "orig_nbformat": 4
 },
 "nbformat": 4,
 "nbformat_minor": 2
}
